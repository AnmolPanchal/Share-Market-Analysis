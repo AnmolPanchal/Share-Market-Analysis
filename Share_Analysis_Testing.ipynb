{
  "nbformat": 4,
  "nbformat_minor": 0,
  "metadata": {
    "colab": {
      "name": "Share_Analysis_Testing.ipynb",
      "provenance": [],
      "collapsed_sections": []
    },
    "kernelspec": {
      "name": "python3",
      "display_name": "Python 3"
    }
  },
  "cells": [
    {
      "cell_type": "code",
      "metadata": {
        "id": "FxPPju17mSCx",
        "colab_type": "code",
        "colab": {}
      },
      "source": [
        "import math\n",
        "import numpy as np\n",
        "import pandas as pd\n",
        "import seaborn as sns\n",
        "import scipy.stats\n",
        "import scipy \n",
        "import matplotlib\n",
        "import fbprophet\n",
        "import pystan\n",
        "#import quandl\n",
        "import matplotlib.pyplot as plt\n",
        "from sklearn.linear_model import LogisticRegression\n",
        "from sklearn import svm\n",
        "from sklearn.linear_model import Perceptron\n",
        "from sklearn.preprocessing import PolynomialFeatures\n",
        "\n",
        "\n"
      ],
      "execution_count": 0,
      "outputs": []
    },
    {
      "cell_type": "code",
      "metadata": {
        "id": "7xWwfZbBmYSF",
        "colab_type": "code",
        "colab": {}
      },
      "source": [
        "# pip install pandas_datareader \n",
        "import pandas_datareader as pdr\n",
        "from pandas_datareader import data as web"
      ],
      "execution_count": 0,
      "outputs": []
    },
    {
      "cell_type": "markdown",
      "metadata": {
        "id": "48ek9evFdrEK",
        "colab_type": "text"
      },
      "source": [
        "Stock Analysis  Function\n"
      ]
    },
    {
      "cell_type": "code",
      "metadata": {
        "id": "LQihiuZzsGBW",
        "colab_type": "code",
        "colab": {}
      },
      "source": [
        "import datetime\n",
        "def Stocks_Data():\n",
        "  x = input(\"Enter the Stock name==>> \")\n",
        "  start = datetime.datetime(2019,9,1)\n",
        "  end = datetime.date.today()\n",
        "  \n",
        "  stock_data_list = web.DataReader(x, \"yahoo\", start, end)\n",
        "  stock_data_list = pd.DataFrame(stock_data_list.iloc[:,[4,5]])\n",
        "  print(stock_data_list)\n",
        "  \n",
        "#   Volume = pd.DataFrame (stock_data_list.iloc[:,[4]])\n",
        "#   Adj_Close = pd.DataFrame(stock_data_list.iloc[:,[5]])\n",
        "  \n",
        "  \n",
        "  High = np.max(stock_data_list)\n",
        "  print(\"High=> \",High)\n",
        "  print(\"---------------------------------\")\n",
        "  \n",
        "  Low = np.min(stock_data_list)\n",
        "  print(\"Low=> \",Low)\n",
        "  print(\"---------------------------------\")\n",
        "  \n",
        "  Mean = pd.DataFrame.mean(stock_data_list)\n",
        "  print(\"Mean=> \",Mean)\n",
        "  print(\"---------------------------------\")\n",
        "  \n",
        "  Std = np.std(stock_data_list)\n",
        "  print(\"Standard Deviation=> \",Std)\n",
        "  print(\"---------------------------------\")\n",
        "  \n",
        "\n",
        "  print(\"Distribution Analysis of Volume of the Given Stock\")\n",
        "  print(sns.scatterplot(x=\"Volume\",y=\"Adj Close\", data= stock_data_list, marker=\"^\", color=\"blue\"))\n",
        "  \n",
        " \n",
        "  \n",
        "\n",
        "  \n",
        "  \n"
      ],
      "execution_count": 0,
      "outputs": []
    },
    {
      "cell_type": "code",
      "metadata": {
        "id": "HgKjv9q1tWKJ",
        "colab_type": "code",
        "outputId": "96f44a9e-217b-4a94-c744-aa48d530852e",
        "colab": {
          "base_uri": "https://localhost:8080/",
          "height": 922
        }
      },
      "source": [
        "\n",
        "Stocks_Data()\n"
      ],
      "execution_count": 37,
      "outputs": [
        {
          "output_type": "stream",
          "text": [
            "Enter the Stock name==>> MSFT\n",
            "              Volume   Adj Close\n",
            "Date                            \n",
            "2019-09-03  18869300  136.039993\n",
            "2019-09-04  17995900  137.630005\n",
            "2019-09-05  26101800  140.050003\n",
            "2019-09-06  20824500  139.100006\n",
            "2019-09-09  25773900  137.520004\n",
            "2019-09-10  28903400  136.080002\n",
            "2019-09-11  24726100  136.119995\n",
            "2019-09-12  27010000  137.520004\n",
            "2019-09-13  23363100  137.320007\n",
            "2019-09-16  16731400  136.330002\n",
            "2019-09-17  17814200  137.389999\n",
            "2019-09-18  23982100  138.520004\n",
            "2019-09-19  35772100  141.070007\n",
            "2019-09-20  39167300  139.440002\n",
            "2019-09-23  17139300  139.139999\n",
            "2019-09-24  29773200  137.380005\n",
            "2019-09-25   9080250  137.949997\n",
            "High=>  Volume       3.916730e+07\n",
            "Adj Close    1.410700e+02\n",
            "dtype: float64\n",
            "---------------------------------\n",
            "Low=>  Volume       9.080250e+06\n",
            "Adj Close    1.360400e+02\n",
            "dtype: float64\n",
            "---------------------------------\n",
            "Mean=>  Volume       2.370752e+07\n",
            "Adj Close    1.379176e+02\n",
            "dtype: float64\n",
            "---------------------------------\n",
            "Standard Deviation=>  Volume       7.175644e+06\n",
            "Adj Close    1.414966e+00\n",
            "dtype: float64\n",
            "---------------------------------\n",
            "Distribution Analysis of Volume of the Given Stock\n",
            "AxesSubplot(0.125,0.125;0.775x0.755)\n"
          ],
          "name": "stdout"
        },
        {
          "output_type": "display_data",
          "data": {
            "image/png": "[encoded data removed]",
            "text/plain": [
              "<Figure size 432x288 with 1 Axes>"
            ]
          },
          "metadata": {
            "tags": []
          }
        }
      ]
    },
    {
      "cell_type": "markdown",
      "metadata": {
        "id": "uIz0a0SFeZbP",
        "colab_type": "text"
      },
      "source": [
        "SVM Classification using Gaussian Kernel \n"
      ]
    },
    {
      "cell_type": "code",
      "metadata": {
        "id": "MuEI8_FxttRn",
        "colab_type": "code",
        "outputId": "c64f1454-454c-4ea4-c7ca-e133d0138d8b",
        "colab": {
          "base_uri": "https://localhost:8080/",
          "height": 1000
        }
      },
      "source": [
        "start_date = datetime.datetime(2019,8,1)\n",
        "end_date = datetime.date.today()\n",
        "stock_data = web.DataReader(\"MSFT\", \"yahoo\", start_date, end_date)\n",
        "stock_data = np.array(stock_data.iloc[:,[4,5]])\n",
        "# print(stock_data)\n",
        "\n",
        "\n",
        "# X = stock_data[-15:]\n",
        "# y = stock_data[:15]\n",
        "\n",
        "# separate data\n",
        "split = 2\n",
        "train,test = stock_data[:split,:],stock_data[split:,:]\n",
        "print(train)\n",
        "print(test)\n",
        "\n",
        "C = 1.0  # SVM regularization parameter\n",
        "models = (svm.SVC(kernel='linear', C=C),\n",
        "          svm.LinearSVC(C=C, max_iter=10000),\n",
        "          svm.SVC(kernel='rbf', gamma=0.7, C=C),\n",
        "          svm.SVC(kernel='poly', degree=3, gamma='auto', C=C))\n",
        "models = (clf.fit(X, y) for clf in models)\n",
        "\n",
        "# print(models)\n",
        "# print(\"Prediction Rate=> \")\n",
        "# print(clf.predict(X))\n",
        "\n",
        "# print(\"Classification Score=> \")\n",
        "# print(clf.score(X))\n",
        "\n",
        "\n",
        "from matplotlib import cm\n",
        "from mpl_toolkits.mplot3d import Axes3D\n",
        "\n",
        "X = np.linspace(-2, 2, 100)\n",
        "y = np.linspace(-2, 2, 100)\n",
        "X, y = np.meshgrid(X, y)\n",
        "z = np.log(X)/1+X\n",
        "fig = plt.figure()\n",
        "ax = fig.gca(projection='3d')\n",
        "surf = ax.plot_surface(x, y, z, rstride=1, cstride=1, cmap=cm.coolwarm, linewidth=\\\n",
        "       0, antialiased=False)\n",
        "fig.colorbar(surf, shrink=0.5, aspect=5)\n",
        "plt.savefig('surface.jpg')\n",
        "\n"
      ],
      "execution_count": 38,
      "outputs": [
        {
          "output_type": "stream",
          "text": [
            "[[4.05575000e+07 1.37601791e+02]\n",
            " [3.07916000e+07 1.36445633e+02]]\n",
            "[[4.27496000e+07 1.31771210e+02]\n",
            " [3.26967000e+07 1.34242981e+02]\n",
            " [3.34145000e+07 1.34831024e+02]\n",
            " [2.74965000e+07 1.38429031e+02]\n",
            " [2.34667000e+07 1.37252960e+02]\n",
            " [2.04766000e+07 1.35339325e+02]\n",
            " [2.51546000e+07 1.38139999e+02]\n",
            " [3.25273000e+07 1.33979996e+02]\n",
            " [2.80744000e+07 1.33679993e+02]\n",
            " [2.44491000e+07 1.36130005e+02]\n",
            " [2.43557000e+07 1.38410004e+02]\n",
            " [2.11708000e+07 1.37259995e+02]\n",
            " [1.49703000e+07 1.38789993e+02]\n",
            " [1.86970000e+07 1.37779999e+02]\n",
            " [3.85086000e+07 1.33389999e+02]\n",
            " [2.03126000e+07 1.35449997e+02]\n",
            " [2.31021000e+07 1.35740005e+02]\n",
            " [1.73933000e+07 1.35559998e+02]\n",
            " [2.01687000e+07 1.38119995e+02]\n",
            " [2.39401000e+07 1.37860001e+02]\n",
            " [1.88693000e+07 1.36039993e+02]\n",
            " [1.79959000e+07 1.37630005e+02]\n",
            " [2.61018000e+07 1.40050003e+02]\n",
            " [2.08245000e+07 1.39100006e+02]\n",
            " [2.57739000e+07 1.37520004e+02]\n",
            " [2.89034000e+07 1.36080002e+02]\n",
            " [2.47261000e+07 1.36119995e+02]\n",
            " [2.70100000e+07 1.37520004e+02]\n",
            " [2.33631000e+07 1.37320007e+02]\n",
            " [1.67314000e+07 1.36330002e+02]\n",
            " [1.78142000e+07 1.37389999e+02]\n",
            " [2.39821000e+07 1.38520004e+02]\n",
            " [3.57721000e+07 1.41070007e+02]\n",
            " [3.91673000e+07 1.39440002e+02]\n",
            " [1.71393000e+07 1.39139999e+02]\n",
            " [2.97732000e+07 1.37380005e+02]\n",
            " [9.08667200e+06 1.37990005e+02]]\n"
          ],
          "name": "stdout"
        },
        {
          "output_type": "stream",
          "text": [
            "/usr/local/lib/python3.6/dist-packages/ipykernel_launcher.py:38: RuntimeWarning:\n",
            "\n",
            "invalid value encountered in log\n",
            "\n",
            "/usr/local/lib/python3.6/dist-packages/matplotlib/colors.py:512: RuntimeWarning:\n",
            "\n",
            "invalid value encountered in less\n",
            "\n"
          ],
          "name": "stderr"
        },
        {
          "output_type": "display_data",
          "data": {
            "image/png": "[encoded data removed]",
            "text/plain": [
              "<Figure size 432x288 with 2 Axes>"
            ]
          },
          "metadata": {
            "tags": []
          }
        }
      ]
    },
    {
      "cell_type": "code",
      "metadata": {
        "id": "1xCIbv8_gCUG",
        "colab_type": "code",
        "colab": {
          "base_uri": "https://localhost:8080/",
          "height": 248
        },
        "outputId": "7f838318-3c24-42ec-9ac8-aa0b745c9c87"
      },
      "source": [
        "fig = plt.figure()\n",
        "ax = fig.gca(projection='3d')\n",
        "ax.scatter(X, y, label='gradient descent method')\n",
        "ax.legend()\n",
        "plt.savefig('g-d.jpg')"
      ],
      "execution_count": 39,
      "outputs": [
        {
          "output_type": "display_data",
          "data": {
            "image/png": "[encoded data removed]",
            "text/plain": [
              "<Figure size 432x288 with 1 Axes>"
            ]
          },
          "metadata": {
            "tags": []
          }
        }
      ]
    },
    {
      "cell_type": "code",
      "metadata": {
        "id": "p_ajFEsw4G7U",
        "colab_type": "code",
        "colab": {
          "base_uri": "https://localhost:8080/",
          "height": 534
        },
        "outputId": "2568af4b-9b5e-4bc6-8007-508116cbf6ee"
      },
      "source": [
        "def func(x):\n",
        "    return 100*np.square(np.square(x[0])-x[1])+np.square(x[0]-1)\n",
        "    \n",
        "# first order derivatives of the function\n",
        "def dfunc(x):\n",
        "    df1 = 400*x[0]*(np.square(x[0])-x[1])+2*(x[0]-1)\n",
        "    df2 = -200*(np.square(x[0])-x[1])\n",
        "    return np.array([df1, df2])\n",
        "    \n",
        "def grad(x, max_int):\n",
        "    miter = 1\n",
        "    step = .001/miter\n",
        "    vals = []\n",
        "    objectfs = []\n",
        "    # you can customize your own condition of convergence, here we limit the number of iterations\n",
        "    while miter <= max_int:\n",
        "        vals.append(x)\n",
        "        objectfs.append(func(x))\n",
        "        temp = x-step*dfunc(x)\n",
        "        if np.abs(func(temp)-func(x))>0.01:\n",
        "            x = temp\n",
        "        else:\n",
        "            break\n",
        "        print(x, func(x), miter)\n",
        "        miter += 1\n",
        "    return vals, objectfs, miter\n",
        "\n",
        "start = [5, 5]\n",
        "val, objectf, iters = grad(start, 50)\n",
        "\n",
        "x = X\n",
        "y = y\n",
        "z = np.array(objectf)\n",
        "fig = plt.figure()\n",
        "ax = fig.gca(projection='3d')\n",
        "ax.scatter(X, y, label='gradient descent method')\n",
        "ax.legend()\n",
        "plt.savefig('g-d.jpg')"
      ],
      "execution_count": 40,
      "outputs": [
        {
          "output_type": "stream",
          "text": [
            "[-35.008   9.   ] 148003135.50803244 1\n",
            "[17000.7979042   252.3120128] 8.353653567034042e+18 2\n",
            "[-1.96547499e+12  5.78056277e+07] 1.4923479411599924e+51 3\n",
            "[3.03712425e+36 7.72618390e+23] 8.508445818346162e+147 4\n",
            "[-1.12059239e+109  1.84482474e+072] inf 5\n"
          ],
          "name": "stdout"
        },
        {
          "output_type": "stream",
          "text": [
            "/usr/local/lib/python3.6/dist-packages/ipykernel_launcher.py:2: RuntimeWarning:\n",
            "\n",
            "overflow encountered in square\n",
            "\n",
            "/usr/local/lib/python3.6/dist-packages/ipykernel_launcher.py:6: RuntimeWarning:\n",
            "\n",
            "overflow encountered in double_scalars\n",
            "\n",
            "/usr/local/lib/python3.6/dist-packages/ipykernel_launcher.py:20: RuntimeWarning:\n",
            "\n",
            "invalid value encountered in double_scalars\n",
            "\n"
          ],
          "name": "stderr"
        },
        {
          "output_type": "display_data",
          "data": {
            "image/png": "[encoded data removed]",
            "text/plain": [
              "<Figure size 432x288 with 1 Axes>"
            ]
          },
          "metadata": {
            "tags": []
          }
        }
      ]
    },
    {
      "cell_type": "code",
      "metadata": {
        "id": "9adVVgxA5D25",
        "colab_type": "code",
        "colab": {}
      },
      "source": [
        "import numpy as np\n",
        "import matplotlib.pyplot as plt\n",
        "\n",
        "seg = (np.sqrt(5)-1)/2\n",
        "\n",
        "def golden(f, lower, upper, merror):\n",
        "    error = 1000\n",
        "    vals = []\n",
        "    vals.append((lower+upper)/2)\n",
        "    objectf = []\n",
        "    objectf.append(f((lower+upper)/2))\n",
        "    # you can customize your own condition of convergence, here we limit the error term\n",
        "    while error >= merror:\n",
        "        temp1 = upper-seg*(upper-lower)\n",
        "        temp2 = lower+seg*(upper-lower)\n",
        "        if f(temp1)-f(temp2)>0:\n",
        "            upper = temp2\n",
        "        else:\n",
        "            lower = temp1\n",
        "        error = np.abs(f(temp1)-f(temp2))\n",
        "        vals.append((lower+upper)/2)\n",
        "        objectf.append(f((lower+upper)/2))\n",
        "    return (temp2+temp1)/2, f((temp2+temp1)/2), vals, objectf\n",
        "\n",
        "# # an example\n",
        "# obj = lambda x: 4*x*x + (x+x*x)**2\n",
        "# (ub, lb) = (3, 0)\n",
        "\n",
        "# val, maxima, xs, ys = golden(obj, lb, ub, 0.003)\n",
        "\n",
        "# print(\"The value and maximal is \"+str(val)+\", \"+str(maxima))\n",
        "# plt.plot(xs,ys,'ro')\n",
        "# plt.title('Golden section method')\n",
        "# plt.savefig('gsr.jpg')"
      ],
      "execution_count": 0,
      "outputs": []
    },
    {
      "cell_type": "code",
      "metadata": {
        "id": "wHwSqhjwMrAF",
        "colab_type": "code",
        "colab": {
          "base_uri": "https://localhost:8080/",
          "height": 298
        },
        "outputId": "bd3ca1d0-9f0a-49a0-a20d-6e7921bc3bf2"
      },
      "source": [
        "# an example\n",
        "obj = lambda X: (X+137.91)**2\n",
        "\n",
        "(ub, lb) = (150, 137.91)\n",
        "\n",
        "val, maxima, xs, ys = golden(obj, lb, ub, 0.003)\n",
        "\n",
        "print(\"The value of maximal is \"+str(val)+\", \"+str(maxima))\n",
        "plt.plot(xs,ys,'ro')\n",
        "plt.title('Golden section method')\n",
        "plt.savefig('gsr.jpg')"
      ],
      "execution_count": 55,
      "outputs": [
        {
          "output_type": "stream",
          "text": [
            "The value of maximal is 149.99999149366704, 82892.1632018834\n"
          ],
          "name": "stdout"
        },
        {
          "output_type": "display_data",
          "data": {
            "image/png": "[encoded data removed]",
            "text/plain": [
              "<Figure size 432x288 with 1 Axes>"
            ]
          },
          "metadata": {
            "tags": []
          }
        }
      ]
    },
    {
      "cell_type": "code",
      "metadata": {
        "id": "pgder-t45zvB",
        "colab_type": "code",
        "colab": {
          "base_uri": "https://localhost:8080/",
          "height": 298
        },
        "outputId": "9ab521bd-d09c-4700-95db-ac64ce250e3e"
      },
      "source": [
        "\n",
        "\n",
        "print(\"The value and maximal is \"+str(val)+\", \"+str(maxima))\n",
        "plt.plot(xs,ys,'ro')\n",
        "plt.title('Golden section method')\n",
        "plt.savefig('gsr.jpg')"
      ],
      "execution_count": 51,
      "outputs": [
        {
          "output_type": "stream",
          "text": [
            "The value and maximal is 4.9995673243207195, 35.994808079056874\n"
          ],
          "name": "stdout"
        },
        {
          "output_type": "display_data",
          "data": {
            "image/png": "[encoded data removed]",
            "text/plain": [
              "<Figure size 432x288 with 1 Axes>"
            ]
          },
          "metadata": {
            "tags": []
          }
        }
      ]
    },
    {
      "cell_type": "code",
      "metadata": {
        "id": "tEeY5IxxMXtM",
        "colab_type": "code",
        "colab": {
          "base_uri": "https://localhost:8080/",
          "height": 503
        },
        "outputId": "afb2af8f-3607-4786-aa38-97aa867fede8"
      },
      "source": [
        "# import numpy as np\n",
        "# import matplotlib.pyplot as plt\n",
        "# %matplotlib inline\n",
        "\n",
        "# # np.random.seed(12)\n",
        "# num_observations = 30\n",
        "\n",
        "# x1 = X[-10:]\n",
        "# x2 = X[10:]\n",
        "\n",
        "# simulated_separableish_features = np.vstack((x1, x2)).astype(np.float32)\n",
        "# simulated_labels = np.hstack((np.zeros(num_observations),np.ones(num_observations)))\n",
        "\n",
        "plt.figure(figsize=(10,8))\n",
        "plt.scatter(X[:, 0],y[:, 1], alpha = .4, s =50)"
      ],
      "execution_count": 94,
      "outputs": [
        {
          "output_type": "execute_result",
          "data": {
            "text/plain": [
              "<matplotlib.collections.PathCollection at 0x7fbf1ddcda58>"
            ]
          },
          "metadata": {
            "tags": []
          },
          "execution_count": 94
        },
        {
          "output_type": "display_data",
          "data": {
            "image/png": "[encoded data removed]",
            "text/plain": [
              "<Figure size 720x576 with 1 Axes>"
            ]
          },
          "metadata": {
            "tags": []
          }
        }
      ]
    },
    {
      "cell_type": "code",
      "metadata": {
        "id": "IrtP7N3qRo2x",
        "colab_type": "code",
        "colab": {}
      },
      "source": [
        "def sigmoid(scores):\n",
        "    return 1 / (1 + np.exp(-scores))\n",
        "\n",
        "\n",
        "def log_likelihood(features, target, weights):\n",
        "    scores = np.dot(features, weights)\n",
        "    ll = np.sum( target*scores - np.log(1 + np.exp(scores)) )\n",
        "    return ll\n",
        "  \n",
        "  \n",
        "def logistic_regression(features, target, num_steps, learning_rate, add_intercept = False):\n",
        "    if add_intercept:\n",
        "        intercept = np.ones((features.shape[0], 1))\n",
        "        features = np.hstack((intercept, features))\n",
        "        \n",
        "    weights = np.zeros(features.shape[1])\n",
        "    \n",
        "    for step in range(num_steps):\n",
        "        scores = np.dot(features, weights)\n",
        "        predictions = sigmoid(scores)\n",
        "\n",
        "        # Update weights with gradient\n",
        "        output_error_signal = target - predictions\n",
        "        gradient = np.dot(features.T, output_error_signal)\n",
        "        weights += learning_rate * gradient\n",
        "        \n",
        "        # Print log-likelihood every so often\n",
        "        if step % 10000 == 0:\n",
        "            print (log_likelihood(features, target, weights))\n",
        "        \n",
        "    return weights"
      ],
      "execution_count": 0,
      "outputs": []
    },
    {
      "cell_type": "code",
      "metadata": {
        "id": "Foo0fM38Pwrf",
        "colab_type": "code",
        "colab": {
          "base_uri": "https://localhost:8080/",
          "height": 346
        },
        "outputId": "baa32836-0af1-4c2e-9033-b9e76356c65b"
      },
      "source": [
        "from sklearn.linear_model import LogisticRegression\n",
        "weights = logistic_regression(X, y,num_steps = 300000, learning_rate = 5e-5, add_intercept=True)\n",
        "clf = LogisticRegression(fit_intercept=True, C = 1e15)\n",
        "clf.fit(X[10:], y[-10:])\n",
        "\n",
        "print (clf.intercept_, clf.coef_)\n",
        "print (weights)"
      ],
      "execution_count": 95,
      "outputs": [
        {
          "output_type": "error",
          "ename": "ValueError",
          "evalue": "ignored",
          "traceback": [
            "\u001b[0;31m---------------------------------------------------------------------------\u001b[0m",
            "\u001b[0;31mValueError\u001b[0m                                Traceback (most recent call last)",
            "\u001b[0;32m<ipython-input-95-1c435fd57d5a>\u001b[0m in \u001b[0;36m<module>\u001b[0;34m()\u001b[0m\n\u001b[1;32m      1\u001b[0m \u001b[0;32mfrom\u001b[0m \u001b[0msklearn\u001b[0m\u001b[0;34m.\u001b[0m\u001b[0mlinear_model\u001b[0m \u001b[0;32mimport\u001b[0m \u001b[0mLogisticRegression\u001b[0m\u001b[0;34m\u001b[0m\u001b[0;34m\u001b[0m\u001b[0m\n\u001b[0;32m----> 2\u001b[0;31m \u001b[0mweights\u001b[0m \u001b[0;34m=\u001b[0m \u001b[0mlogistic_regression\u001b[0m\u001b[0;34m(\u001b[0m\u001b[0mX\u001b[0m\u001b[0;34m,\u001b[0m \u001b[0my\u001b[0m\u001b[0;34m,\u001b[0m\u001b[0mnum_steps\u001b[0m \u001b[0;34m=\u001b[0m \u001b[0;36m300000\u001b[0m\u001b[0;34m,\u001b[0m \u001b[0mlearning_rate\u001b[0m \u001b[0;34m=\u001b[0m \u001b[0;36m5e-5\u001b[0m\u001b[0;34m,\u001b[0m \u001b[0madd_intercept\u001b[0m\u001b[0;34m=\u001b[0m\u001b[0;32mTrue\u001b[0m\u001b[0;34m)\u001b[0m\u001b[0;34m\u001b[0m\u001b[0;34m\u001b[0m\u001b[0m\n\u001b[0m\u001b[1;32m      3\u001b[0m \u001b[0mclf\u001b[0m \u001b[0;34m=\u001b[0m \u001b[0mLogisticRegression\u001b[0m\u001b[0;34m(\u001b[0m\u001b[0mfit_intercept\u001b[0m\u001b[0;34m=\u001b[0m\u001b[0;32mTrue\u001b[0m\u001b[0;34m,\u001b[0m \u001b[0mC\u001b[0m \u001b[0;34m=\u001b[0m \u001b[0;36m1e15\u001b[0m\u001b[0;34m)\u001b[0m\u001b[0;34m\u001b[0m\u001b[0;34m\u001b[0m\u001b[0m\n\u001b[1;32m      4\u001b[0m \u001b[0mclf\u001b[0m\u001b[0;34m.\u001b[0m\u001b[0mfit\u001b[0m\u001b[0;34m(\u001b[0m\u001b[0mX\u001b[0m\u001b[0;34m[\u001b[0m\u001b[0;36m10\u001b[0m\u001b[0;34m:\u001b[0m\u001b[0;34m]\u001b[0m\u001b[0;34m,\u001b[0m \u001b[0my\u001b[0m\u001b[0;34m[\u001b[0m\u001b[0;34m-\u001b[0m\u001b[0;36m10\u001b[0m\u001b[0;34m:\u001b[0m\u001b[0;34m]\u001b[0m\u001b[0;34m)\u001b[0m\u001b[0;34m\u001b[0m\u001b[0;34m\u001b[0m\u001b[0m\n\u001b[1;32m      5\u001b[0m \u001b[0;34m\u001b[0m\u001b[0m\n",
            "\u001b[0;32m<ipython-input-79-cc9c93304a92>\u001b[0m in \u001b[0;36mlogistic_regression\u001b[0;34m(features, target, num_steps, learning_rate, add_intercept)\u001b[0m\n\u001b[1;32m     23\u001b[0m         \u001b[0moutput_error_signal\u001b[0m \u001b[0;34m=\u001b[0m \u001b[0mtarget\u001b[0m \u001b[0;34m-\u001b[0m \u001b[0mpredictions\u001b[0m\u001b[0;34m\u001b[0m\u001b[0;34m\u001b[0m\u001b[0m\n\u001b[1;32m     24\u001b[0m         \u001b[0mgradient\u001b[0m \u001b[0;34m=\u001b[0m \u001b[0mnp\u001b[0m\u001b[0;34m.\u001b[0m\u001b[0mdot\u001b[0m\u001b[0;34m(\u001b[0m\u001b[0mfeatures\u001b[0m\u001b[0;34m.\u001b[0m\u001b[0mT\u001b[0m\u001b[0;34m,\u001b[0m \u001b[0moutput_error_signal\u001b[0m\u001b[0;34m)\u001b[0m\u001b[0;34m\u001b[0m\u001b[0;34m\u001b[0m\u001b[0m\n\u001b[0;32m---> 25\u001b[0;31m         \u001b[0mweights\u001b[0m \u001b[0;34m+=\u001b[0m \u001b[0mlearning_rate\u001b[0m \u001b[0;34m*\u001b[0m \u001b[0mgradient\u001b[0m\u001b[0;34m\u001b[0m\u001b[0;34m\u001b[0m\u001b[0m\n\u001b[0m\u001b[1;32m     26\u001b[0m \u001b[0;34m\u001b[0m\u001b[0m\n\u001b[1;32m     27\u001b[0m         \u001b[0;31m# Print log-likelihood every so often\u001b[0m\u001b[0;34m\u001b[0m\u001b[0;34m\u001b[0m\u001b[0;34m\u001b[0m\u001b[0m\n",
            "\u001b[0;31mValueError\u001b[0m: operands could not be broadcast together with shapes (101,) (101,100) (101,) "
          ]
        }
      ]
    },
    {
      "cell_type": "code",
      "metadata": {
        "id": "2GBA9RGERXej",
        "colab_type": "code",
        "colab": {}
      },
      "source": [
        "\n",
        "\n",
        "start = datetime.datetime(2019,9,1)\n",
        "end = datetime.date.today()\n",
        "  \n",
        "stock_dataset = web.DataReader(\"MSFT\", \"yahoo\", start, end)\n",
        "df = pd.DataFrame(stock_dataset.iloc[:,[4,5]])\n",
        "# df = stock_dataset\n",
        "\n",
        "X = stock_dataset[-15:]\n",
        "y = stock_dataset[:15]\n",
        "X = np.array(X)\n",
        "y = np.array(y)\n",
        "C,sigma = 10,0.001"
      ],
      "execution_count": 0,
      "outputs": []
    },
    {
      "cell_type": "code",
      "metadata": {
        "id": "GvLWsOv1S-1V",
        "colab_type": "code",
        "colab": {}
      },
      "source": [
        "def Kernel(x, y, sigma):\n",
        "    return np.exp(-np.linalg.norm(x-y)**2 / ( (sigma ** 2)))\n",
        "  \n",
        "  "
      ],
      "execution_count": 0,
      "outputs": []
    },
    {
      "cell_type": "code",
      "metadata": {
        "id": "8gsnRBLaTdwZ",
        "colab_type": "code",
        "colab": {}
      },
      "source": [
        "def Gram_Matrix(x):\n",
        "    K = np.zeros((len(x),len(x)))\n",
        "    for i in range(0, len(x)):\n",
        "        for j in range(0, len(x)):\n",
        "            K[i, j] = Kernel(x[i], x[j], sigma)\n",
        "            \n",
        "    return K"
      ],
      "execution_count": 0,
      "outputs": []
    },
    {
      "cell_type": "code",
      "metadata": {
        "id": "qPc1x5YGTeH4",
        "colab_type": "code",
        "colab": {}
      },
      "source": [
        "def H(x):\n",
        "    mat = np.zeros((len(x), len(x)))\n",
        "    mat[0:len(x), 0:len(x)] = Gram_Matrix(x) + np.eye(len(x))/2*C\n",
        "    return mat"
      ],
      "execution_count": 0,
      "outputs": []
    },
    {
      "cell_type": "code",
      "metadata": {
        "id": "cv56bJ2LTqYW",
        "colab_type": "code",
        "colab": {}
      },
      "source": [
        "def alpha():\n",
        "    p1 = np.dot(np.dot(np.linalg.inv(H_mat), e.T),k)\n",
        "    p2 = np.dot(np.dot(np.linalg.inv(H_mat), e.T), e)\n",
        "    p3 = (2-p1)/p2\n",
        "    p3 = k + np.dot(p3, e)\n",
        "    a = 0.5*np.dot(np.linalg.inv(H_mat),p3)\n",
        "    return a"
      ],
      "execution_count": 0,
      "outputs": []
    },
    {
      "cell_type": "code",
      "metadata": {
        "id": "5FXwRrVkTf9J",
        "colab_type": "code",
        "colab": {}
      },
      "source": [
        "e = np.ones(len(X))\n",
        "k = np.zeros((len(X)))\n",
        "\n",
        "for j in range(0, len(X)):\n",
        "    k[j] = Kernel(X[j], X[j], sigma)\n",
        "\n",
        "H_mat = H(X)\n",
        "al = alpha()"
      ],
      "execution_count": 0,
      "outputs": []
    },
    {
      "cell_type": "code",
      "metadata": {
        "id": "eLQtWnOtThqo",
        "colab_type": "code",
        "colab": {
          "base_uri": "https://localhost:8080/",
          "height": 269
        },
        "outputId": "ea99969c-4096-48dd-de6c-b52b868c4458"
      },
      "source": [
        "H(X)"
      ],
      "execution_count": 126,
      "outputs": [
        {
          "output_type": "execute_result",
          "data": {
            "text/plain": [
              "array([[6., 0., 0., 0., 0., 0., 0., 0., 0., 0., 0., 0., 0., 0., 0.],\n",
              "       [0., 6., 0., 0., 0., 0., 0., 0., 0., 0., 0., 0., 0., 0., 0.],\n",
              "       [0., 0., 6., 0., 0., 0., 0., 0., 0., 0., 0., 0., 0., 0., 0.],\n",
              "       [0., 0., 0., 6., 0., 0., 0., 0., 0., 0., 0., 0., 0., 0., 0.],\n",
              "       [0., 0., 0., 0., 6., 0., 0., 0., 0., 0., 0., 0., 0., 0., 0.],\n",
              "       [0., 0., 0., 0., 0., 6., 0., 0., 0., 0., 0., 0., 0., 0., 0.],\n",
              "       [0., 0., 0., 0., 0., 0., 6., 0., 0., 0., 0., 0., 0., 0., 0.],\n",
              "       [0., 0., 0., 0., 0., 0., 0., 6., 0., 0., 0., 0., 0., 0., 0.],\n",
              "       [0., 0., 0., 0., 0., 0., 0., 0., 6., 0., 0., 0., 0., 0., 0.],\n",
              "       [0., 0., 0., 0., 0., 0., 0., 0., 0., 6., 0., 0., 0., 0., 0.],\n",
              "       [0., 0., 0., 0., 0., 0., 0., 0., 0., 0., 6., 0., 0., 0., 0.],\n",
              "       [0., 0., 0., 0., 0., 0., 0., 0., 0., 0., 0., 6., 0., 0., 0.],\n",
              "       [0., 0., 0., 0., 0., 0., 0., 0., 0., 0., 0., 0., 6., 0., 0.],\n",
              "       [0., 0., 0., 0., 0., 0., 0., 0., 0., 0., 0., 0., 0., 6., 0.],\n",
              "       [0., 0., 0., 0., 0., 0., 0., 0., 0., 0., 0., 0., 0., 0., 6.]])"
            ]
          },
          "metadata": {
            "tags": []
          },
          "execution_count": 126
        }
      ]
    },
    {
      "cell_type": "code",
      "metadata": {
        "id": "qCZJEBVZTsy4",
        "colab_type": "code",
        "colab": {
          "base_uri": "https://localhost:8080/",
          "height": 269
        },
        "outputId": "c70d22d4-f395-47a9-dc1d-16b9aec9347e"
      },
      "source": [
        "Gram_Matrix(X)"
      ],
      "execution_count": 127,
      "outputs": [
        {
          "output_type": "execute_result",
          "data": {
            "text/plain": [
              "array([[1., 0., 0., 0., 0., 0., 0., 0., 0., 0., 0., 0., 0., 0., 0.],\n",
              "       [0., 1., 0., 0., 0., 0., 0., 0., 0., 0., 0., 0., 0., 0., 0.],\n",
              "       [0., 0., 1., 0., 0., 0., 0., 0., 0., 0., 0., 0., 0., 0., 0.],\n",
              "       [0., 0., 0., 1., 0., 0., 0., 0., 0., 0., 0., 0., 0., 0., 0.],\n",
              "       [0., 0., 0., 0., 1., 0., 0., 0., 0., 0., 0., 0., 0., 0., 0.],\n",
              "       [0., 0., 0., 0., 0., 1., 0., 0., 0., 0., 0., 0., 0., 0., 0.],\n",
              "       [0., 0., 0., 0., 0., 0., 1., 0., 0., 0., 0., 0., 0., 0., 0.],\n",
              "       [0., 0., 0., 0., 0., 0., 0., 1., 0., 0., 0., 0., 0., 0., 0.],\n",
              "       [0., 0., 0., 0., 0., 0., 0., 0., 1., 0., 0., 0., 0., 0., 0.],\n",
              "       [0., 0., 0., 0., 0., 0., 0., 0., 0., 1., 0., 0., 0., 0., 0.],\n",
              "       [0., 0., 0., 0., 0., 0., 0., 0., 0., 0., 1., 0., 0., 0., 0.],\n",
              "       [0., 0., 0., 0., 0., 0., 0., 0., 0., 0., 0., 1., 0., 0., 0.],\n",
              "       [0., 0., 0., 0., 0., 0., 0., 0., 0., 0., 0., 0., 1., 0., 0.],\n",
              "       [0., 0., 0., 0., 0., 0., 0., 0., 0., 0., 0., 0., 0., 1., 0.],\n",
              "       [0., 0., 0., 0., 0., 0., 0., 0., 0., 0., 0., 0., 0., 0., 1.]])"
            ]
          },
          "metadata": {
            "tags": []
          },
          "execution_count": 127
        }
      ]
    },
    {
      "cell_type": "code",
      "metadata": {
        "id": "N9MH0nDwTu9B",
        "colab_type": "code",
        "colab": {
          "base_uri": "https://localhost:8080/",
          "height": 67
        },
        "outputId": "f68ac6ad-2ad6-46ae-a518-0d0357032512"
      },
      "source": [
        "alpha()"
      ],
      "execution_count": 128,
      "outputs": [
        {
          "output_type": "execute_result",
          "data": {
            "text/plain": [
              "array([0.06666667, 0.06666667, 0.06666667, 0.06666667, 0.06666667,\n",
              "       0.06666667, 0.06666667, 0.06666667, 0.06666667, 0.06666667,\n",
              "       0.06666667, 0.06666667, 0.06666667, 0.06666667, 0.06666667])"
            ]
          },
          "metadata": {
            "tags": []
          },
          "execution_count": 128
        }
      ]
    },
    {
      "cell_type": "code",
      "metadata": {
        "id": "wSlk17u1TwYy",
        "colab_type": "code",
        "colab": {}
      },
      "source": [
        "def R_square():\n",
        "    p1 = 0\n",
        "    p2 = 0\n",
        "    total = 0\n",
        "    for s in range(0, len(X)):\n",
        "        k = Kernel(X[s], X[s], sigma)\n",
        "        for j in range(0, len(X)):\n",
        "            p1 = p1 + al[j]*Kernel(X[s], X[j], sigma)\n",
        "            for l in range(0, len(X)):\n",
        "                p2 = p2 + al[j]*al[l]*Kernel(X[j], X[l], sigma)\n",
        "        total = total + (k - 2 * p1 + p2)\n",
        "    final = total/len(X)\n",
        "    return final\n",
        "\n",
        "final = R_square()"
      ],
      "execution_count": 0,
      "outputs": []
    },
    {
      "cell_type": "code",
      "metadata": {
        "id": "gZTzaJKPTycJ",
        "colab_type": "code",
        "colab": {
          "base_uri": "https://localhost:8080/",
          "height": 34
        },
        "outputId": "1ee705d7-dee0-4773-f847-f8c1a26a9f10"
      },
      "source": [
        "\n",
        "final"
      ],
      "execution_count": 130,
      "outputs": [
        {
          "output_type": "execute_result",
          "data": {
            "text/plain": [
              "0.4666666666666687"
            ]
          },
          "metadata": {
            "tags": []
          },
          "execution_count": 130
        }
      ]
    },
    {
      "cell_type": "code",
      "metadata": {
        "id": "esINK4gnT2gA",
        "colab_type": "code",
        "colab": {}
      },
      "source": [
        "def classification(x):\n",
        "    t_out = []\n",
        "    t_in = []\n",
        "    p = 0\n",
        "    p1 = 0\n",
        "    for z in range(0, len(x)):\n",
        "        k = Kernel(x[z], x[z], sigma)    \n",
        "        for j in range(0, len(X)):\n",
        "            p = p + al[j]*Kernel(x, X[j], sigma)\n",
        "            for l in range(0, len(X)):\n",
        "                p1 = p1 + al[j]*al[l]*Kernel(X[j], X[l], sigma)\n",
        "        d = k - 2*p + p1\n",
        "        if d <= final:\n",
        "            t_in.append(x[z])\n",
        "        else:\n",
        "            t_out.append(x[z])\n",
        "\n",
        "    return t_out, t_in\n",
        "\n",
        "t_out, t_in = classification(X)"
      ],
      "execution_count": 0,
      "outputs": []
    },
    {
      "cell_type": "code",
      "metadata": {
        "id": "CIcufDOoT28Z",
        "colab_type": "code",
        "colab": {
          "base_uri": "https://localhost:8080/",
          "height": 538
        },
        "outputId": "f8d57fe4-e065-4e02-b226-f4970bf8f5f0"
      },
      "source": [
        "t_out,t_in"
      ],
      "execution_count": 132,
      "outputs": [
        {
          "output_type": "execute_result",
          "data": {
            "text/plain": [
              "([array([1.40380005e+02, 1.38759995e+02, 1.39110001e+02, 1.40050003e+02,\n",
              "         2.61018000e+07, 1.40050003e+02]),\n",
              "  array([1.40179993e+02, 1.38199997e+02, 1.40029999e+02, 1.39100006e+02,\n",
              "         2.08245000e+07, 1.39100006e+02]),\n",
              "  array([1.39750000e+02, 1.36460007e+02, 1.39589996e+02, 1.37520004e+02,\n",
              "         2.57739000e+07, 1.37520004e+02]),\n",
              "  array([1.36889999e+02, 1.34509995e+02, 1.36800003e+02, 1.36080002e+02,\n",
              "         2.89034000e+07, 1.36080002e+02]),\n",
              "  array([1.36270004e+02, 1.35089996e+02, 1.35910004e+02, 1.36119995e+02,\n",
              "         2.47261000e+07, 1.36119995e+02]),\n",
              "  array([1.38419998e+02, 1.36869995e+02, 1.37850006e+02, 1.37520004e+02,\n",
              "         2.70100000e+07, 1.37520004e+02]),\n",
              "  array([1.38059998e+02, 1.36570007e+02, 1.37779999e+02, 1.37320007e+02,\n",
              "         2.33631000e+07, 1.37320007e+02]),\n",
              "  array([1.36699997e+02, 1.35660004e+02, 1.35830002e+02, 1.36330002e+02,\n",
              "         1.67314000e+07, 1.36330002e+02]),\n",
              "  array([1.37520004e+02, 1.36429993e+02, 1.36960007e+02, 1.37389999e+02,\n",
              "         1.78142000e+07, 1.37389999e+02]),\n",
              "  array([1.38669998e+02, 1.36529999e+02, 1.37360001e+02, 1.38520004e+02,\n",
              "         2.39821000e+07, 1.38520004e+02]),\n",
              "  array([1.42369995e+02, 1.40070007e+02, 1.40300003e+02, 1.41070007e+02,\n",
              "         3.57721000e+07, 1.41070007e+02]),\n",
              "  array([1.41649994e+02, 1.38250000e+02, 1.41009995e+02, 1.39440002e+02,\n",
              "         3.91673000e+07, 1.39440002e+02]),\n",
              "  array([1.39630005e+02, 1.38440002e+02, 1.39229996e+02, 1.39139999e+02,\n",
              "         1.71393000e+07, 1.39139999e+02]),\n",
              "  array([1.40690002e+02, 1.36880005e+02, 1.40360001e+02, 1.37380005e+02,\n",
              "         2.97732000e+07, 1.37380005e+02]),\n",
              "  array([1.38229996e+02, 1.36039993e+02, 1.37500000e+02, 1.38005005e+02,\n",
              "         1.00673120e+07, 1.38005005e+02])],\n",
              " [])"
            ]
          },
          "metadata": {
            "tags": []
          },
          "execution_count": 132
        }
      ]
    },
    {
      "cell_type": "code",
      "metadata": {
        "id": "Q3rums5wT7LB",
        "colab_type": "code",
        "colab": {
          "base_uri": "https://localhost:8080/",
          "height": 67
        },
        "outputId": "f3e19366-d97f-43a6-f60b-c0eede72b43f"
      },
      "source": [
        "import matplotlib.pyplot as plt\n",
        "import matplotlib.font_manager\n",
        "from sklearn import svm\n",
        "\n",
        "clf = svm.OneClassSVM(kernel = 'rbf', gamma = 'auto')\n",
        "clf.fit(t_out,t_in)"
      ],
      "execution_count": 133,
      "outputs": [
        {
          "output_type": "execute_result",
          "data": {
            "text/plain": [
              "OneClassSVM(cache_size=200, coef0=0.0, degree=3, gamma='auto', kernel='rbf',\n",
              "            max_iter=-1, nu=0.5, random_state=None, shrinking=True, tol=0.001,\n",
              "            verbose=False)"
            ]
          },
          "metadata": {
            "tags": []
          },
          "execution_count": 133
        }
      ]
    },
    {
      "cell_type": "code",
      "metadata": {
        "id": "jmau-wRLT8Ox",
        "colab_type": "code",
        "colab": {
          "base_uri": "https://localhost:8080/",
          "height": 50
        },
        "outputId": "b68f31c5-f09e-4d3f-9733-379c7ee81d2b"
      },
      "source": [
        "n_error_outliers = t_out[t_out == 1].size\n",
        "print(\"Number of errors = \",n_error_outliers,\"/\",y.size)\n",
        "#classification rate\n",
        "rate = n_error_outliers/y.size\n",
        "print(\"Classification rate = \",100*(1-rate),\"%\")\n",
        "\n",
        "\n"
      ],
      "execution_count": 161,
      "outputs": [
        {
          "output_type": "stream",
          "text": [
            "Number of errors =  6 / 90\n",
            "Classification rate =  93.33333333333333 %\n"
          ],
          "name": "stdout"
        }
      ]
    },
    {
      "cell_type": "code",
      "metadata": {
        "id": "H187OS8OT-Qo",
        "colab_type": "code",
        "colab": {
          "base_uri": "https://localhost:8080/",
          "height": 393
        },
        "outputId": "249c63bd-6ec1-4f45-88f9-e5c84968e808"
      },
      "source": [
        "import seaborn as sns\n",
        "sns.pairplot(df)\n"
      ],
      "execution_count": 139,
      "outputs": [
        {
          "output_type": "execute_result",
          "data": {
            "text/plain": [
              "<seaborn.axisgrid.PairGrid at 0x7fbf1d4ff240>"
            ]
          },
          "metadata": {
            "tags": []
          },
          "execution_count": 139
        },
        {
          "output_type": "display_data",
          "data": {
            "image/png": "[encoded data removed]",
            "text/plain": [
              "<Figure size 360x360 with 6 Axes>"
            ]
          },
          "metadata": {
            "tags": []
          }
        }
      ]
    },
    {
      "cell_type": "code",
      "metadata": {
        "id": "SK8mrSKiUFVP",
        "colab_type": "code",
        "colab": {
          "base_uri": "https://localhost:8080/",
          "height": 34
        },
        "outputId": "9387a0a5-e099-421a-ef67-223006a91cea"
      },
      "source": [
        "type(t_out)"
      ],
      "execution_count": 140,
      "outputs": [
        {
          "output_type": "execute_result",
          "data": {
            "text/plain": [
              "list"
            ]
          },
          "metadata": {
            "tags": []
          },
          "execution_count": 140
        }
      ]
    },
    {
      "cell_type": "code",
      "metadata": {
        "id": "r4SEPGk-VfvP",
        "colab_type": "code",
        "colab": {}
      },
      "source": [
        "plot_data = pd.DataFrame(np.array(t_out).reshape(90,))\n",
        "stocks = pd.DataFrame(np.array(stock_dataset).reshape(stock_dataset.size,))"
      ],
      "execution_count": 0,
      "outputs": []
    },
    {
      "cell_type": "code",
      "metadata": {
        "id": "bMiaQN3mVhnh",
        "colab_type": "code",
        "colab": {
          "base_uri": "https://localhost:8080/",
          "height": 378
        },
        "outputId": "aa71e496-aec9-443a-ec12-9aaa2e826c13"
      },
      "source": [
        "\n",
        "sns.pairplot(plot_data)\n",
        "sns.pairplot(stocks)"
      ],
      "execution_count": 152,
      "outputs": [
        {
          "output_type": "execute_result",
          "data": {
            "text/plain": [
              "<seaborn.axisgrid.PairGrid at 0x7fbf199c6a90>"
            ]
          },
          "metadata": {
            "tags": []
          },
          "execution_count": 152
        },
        {
          "output_type": "display_data",
          "data": {
            "image/png": "[encoded data removed]",
            "text/plain": [
              "<Figure size 180x180 with 2 Axes>"
            ]
          },
          "metadata": {
            "tags": []
          }
        },
        {
          "output_type": "display_data",
          "data": {
            "image/png": "[encoded data removed]",
            "text/plain": [
              "<Figure size 180x180 with 2 Axes>"
            ]
          },
          "metadata": {
            "tags": []
          }
        }
      ]
    },
    {
      "cell_type": "code",
      "metadata": {
        "id": "3490udBlVpAC",
        "colab_type": "code",
        "colab": {
          "base_uri": "https://localhost:8080/",
          "height": 299
        },
        "outputId": "ced484e1-daab-4ad5-f28d-b17acbd1d453"
      },
      "source": [
        "sns.distplot(stocks)\n"
      ],
      "execution_count": 153,
      "outputs": [
        {
          "output_type": "execute_result",
          "data": {
            "text/plain": [
              "<matplotlib.axes._subplots.AxesSubplot at 0x7fbf1d530a20>"
            ]
          },
          "metadata": {
            "tags": []
          },
          "execution_count": 153
        },
        {
          "output_type": "display_data",
          "data": {
            "image/png": "[encoded data removed]",
            "text/plain": [
              "<Figure size 432x288 with 1 Axes>"
            ]
          },
          "metadata": {
            "tags": []
          }
        }
      ]
    },
    {
      "cell_type": "code",
      "metadata": {
        "id": "yjg5uWi6VuIC",
        "colab_type": "code",
        "colab": {
          "base_uri": "https://localhost:8080/",
          "height": 620
        },
        "outputId": "3282fc37-b009-4710-cdd9-ef12831227e9"
      },
      "source": [
        "sns.clustermap(stock_dataset)"
      ],
      "execution_count": 155,
      "outputs": [
        {
          "output_type": "execute_result",
          "data": {
            "text/plain": [
              "<seaborn.matrix.ClusterGrid at 0x7fbf1dd043c8>"
            ]
          },
          "metadata": {
            "tags": []
          },
          "execution_count": 155
        },
        {
          "output_type": "display_data",
          "data": {
            "image/png": "[encoded data removed]",
            "text/plain": [
              "<Figure size 720x720 with 4 Axes>"
            ]
          },
          "metadata": {
            "tags": []
          }
        }
      ]
    },
    {
      "cell_type": "code",
      "metadata": {
        "id": "x9SQ8p8rVzHB",
        "colab_type": "code",
        "colab": {}
      },
      "source": [
        ""
      ],
      "execution_count": 0,
      "outputs": []
    }
  ]
}